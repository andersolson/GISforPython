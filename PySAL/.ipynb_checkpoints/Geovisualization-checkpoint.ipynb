{
 "cells": [
  {
   "cell_type": "markdown",
   "metadata": {},
   "source": [
    "# Cloropleth Mapping\n",
    "\n",
    "## Introduction\n",
    "\n",
    "PySAL was initially created for computational spatial data analysis and spatial econometrics and not visualization, but some basic visualization is possible with the library. \n",
    "\n",
    "This tutorial will cover how to use PySAL and some other packages to create publishable cloropleth maps. The packages covered will include:\n",
    "\n",
    "    *geopandas\n",
    "    *folium\n",
    "    *cartopy\n",
    "    *bokeh\n",
    "\n",
    "### PySAL Viz Module\n",
    "\n"
   ]
  }
 ],
 "metadata": {
  "kernelspec": {
   "display_name": "Python 2",
   "language": "python",
   "name": "python2"
  },
  "language_info": {
   "codemirror_mode": {
    "name": "ipython",
    "version": 2
   },
   "file_extension": ".py",
   "mimetype": "text/x-python",
   "name": "python",
   "nbconvert_exporter": "python",
   "pygments_lexer": "ipython2",
   "version": "2.7.14"
  }
 },
 "nbformat": 4,
 "nbformat_minor": 2
}
